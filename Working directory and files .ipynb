{
 "cells": [
  {
   "cell_type": "code",
   "execution_count": 1,
   "id": "74ea6d16",
   "metadata": {},
   "outputs": [
    {
     "ename": "SyntaxError",
     "evalue": "invalid non-printable character U+00A0 (1102508441.py, line 1)",
     "output_type": "error",
     "traceback": [
      "\u001b[1;36m  Input \u001b[1;32mIn [1]\u001b[1;36m\u001b[0m\n\u001b[1;33m    from google.colab import files\u001b[0m\n\u001b[1;37m        ^\u001b[0m\n\u001b[1;31mSyntaxError\u001b[0m\u001b[1;31m:\u001b[0m invalid non-printable character U+00A0\n"
     ]
    }
   ],
   "source": [
    "from google.colab import files\n",
    "\tuploaded = files.upload()\n",
    "import pandas as pd\n",
    "pd.read_csv(\"/content/ASF_Wild_boar_ASF_seq.csv\")\n",
    "from google.colab import drive\n",
    "drive.mount('/content/drive’)\n",
    "pd.read_csv(\"/content/drive/MyDrive/mtcars.csv\")\n",
    "drive.flush_and_unmount()\n",
    "print('All changes made in this colab session should now be visible in Drive.’)\n",
    "# total files in current folders “ls”\n",
    "# working directory “PWD”\n",
    "import os\n",
    "os.chdir('C:/Users/IT/Desktop/Data_science/example')"
   ]
  },
  {
   "cell_type": "code",
   "execution_count": null,
   "id": "1824c247",
   "metadata": {},
   "outputs": [],
   "source": [
    "pwd"
   ]
  }
 ],
 "metadata": {
  "kernelspec": {
   "display_name": "Python 3 (ipykernel)",
   "language": "python",
   "name": "python3"
  },
  "language_info": {
   "codemirror_mode": {
    "name": "ipython",
    "version": 3
   },
   "file_extension": ".py",
   "mimetype": "text/x-python",
   "name": "python",
   "nbconvert_exporter": "python",
   "pygments_lexer": "ipython3",
   "version": "3.9.12"
  }
 },
 "nbformat": 4,
 "nbformat_minor": 5
}
